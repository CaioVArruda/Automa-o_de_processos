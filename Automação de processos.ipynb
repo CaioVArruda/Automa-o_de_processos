{
 "cells": [
  {
   "cell_type": "markdown",
   "id": "c674ce8d",
   "metadata": {},
   "source": [
    "Vamos aprender como automatizar tarefas do dia a dia, como buscar planilhas em determinados lugares, executando e rodando alguns caminhos para confeccionar uma análise simples porém efetiva de alguns parâmetros importantes no dia da empresa. Como quantidade de produtos vendidos no mês ou até o faturamento mensal daquela."
   ]
  },
  {
   "cell_type": "code",
   "execution_count": 81,
   "id": "f3e54b72",
   "metadata": {},
   "outputs": [
    {
     "name": "stdout",
     "output_type": "stream",
     "text": [
      "Requirement already satisfied: pyautogui in c:\\users\\caio\\anaconda3\\lib\\site-packages (0.9.53)\n",
      "Requirement already satisfied: mouseinfo in c:\\users\\caio\\anaconda3\\lib\\site-packages (from pyautogui) (0.1.3)\n",
      "Requirement already satisfied: pygetwindow>=0.0.5 in c:\\users\\caio\\anaconda3\\lib\\site-packages (from pyautogui) (0.0.9)\n",
      "Requirement already satisfied: pymsgbox in c:\\users\\caio\\anaconda3\\lib\\site-packages (from pyautogui) (1.0.9)\n",
      "Requirement already satisfied: pyscreeze>=0.1.21 in c:\\users\\caio\\anaconda3\\lib\\site-packages (from pyautogui) (0.1.28)\n",
      "Requirement already satisfied: PyTweening>=1.0.1 in c:\\users\\caio\\anaconda3\\lib\\site-packages (from pyautogui) (1.0.4)\n",
      "Requirement already satisfied: pyrect in c:\\users\\caio\\anaconda3\\lib\\site-packages (from pygetwindow>=0.0.5->pyautogui) (0.2.0)\n",
      "Requirement already satisfied: pyperclip in c:\\users\\caio\\anaconda3\\lib\\site-packages (from mouseinfo->pyautogui) (1.8.2)\n"
     ]
    }
   ],
   "source": [
    "#Vamos instalar o pyautogui, biblioteca poderosa quando precisamos controlar os hardwares do nosso computador, como teclado, mouse.\n",
    "\n",
    "!pip install pyautogui"
   ]
  },
  {
   "cell_type": "code",
   "execution_count": 82,
   "id": "84438b36",
   "metadata": {},
   "outputs": [],
   "source": [
    "# vamos importar alguns pacotes que serão de extrema importância na tarefa.\n",
    "\n",
    "import pyautogui\n",
    "import pandas as pd\n",
    "import time\n",
    "import pyperclip"
   ]
  },
  {
   "cell_type": "code",
   "execution_count": 83,
   "id": "c269bc35",
   "metadata": {},
   "outputs": [],
   "source": [
    "# Nesta célula inserimos um auto pause para que a máquina de alguns segundos para a execução das tarefas em sequência, abrindo todos os aplicativos ou softwares necessários para a demanda\n",
    "pyautogui.PAUSE = 1"
   ]
  },
  {
   "cell_type": "code",
   "execution_count": 84,
   "id": "7a7a76f3",
   "metadata": {},
   "outputs": [],
   "source": [
    "# Por meio de alguns comandos vamos acessar a página onde estão armazenados os nossos dados.\n",
    "pyautogui.hotkey('ctrl', 't')\n",
    "link = 'https://drive.google.com/drive/folders/149xknr9JvrlEnhNWO49zPcw0PW5icxga'\n",
    "pyperclip.copy(link)\n",
    "pyautogui.hotkey('ctrl', 'v')\n",
    "pyautogui.press('enter')\n",
    "time.sleep(5)\n",
    "pyautogui.click(x=386, y=304, clicks=2)\n",
    "time.sleep(2)\n",
    "pyautogui.click(x=386, y=389)\n",
    "pyautogui.click(x=1717, y=192)\n",
    "pyautogui.click(x=1495, y=600)"
   ]
  },
  {
   "cell_type": "code",
   "execution_count": 85,
   "id": "4e35f71c",
   "metadata": {},
   "outputs": [
    {
     "data": {
      "text/html": [
       "<div>\n",
       "<style scoped>\n",
       "    .dataframe tbody tr th:only-of-type {\n",
       "        vertical-align: middle;\n",
       "    }\n",
       "\n",
       "    .dataframe tbody tr th {\n",
       "        vertical-align: top;\n",
       "    }\n",
       "\n",
       "    .dataframe thead th {\n",
       "        text-align: right;\n",
       "    }\n",
       "</style>\n",
       "<table border=\"1\" class=\"dataframe\">\n",
       "  <thead>\n",
       "    <tr style=\"text-align: right;\">\n",
       "      <th></th>\n",
       "      <th>Código Venda</th>\n",
       "      <th>Data</th>\n",
       "      <th>ID Loja</th>\n",
       "      <th>Produto</th>\n",
       "      <th>Quantidade</th>\n",
       "      <th>Valor Unitário</th>\n",
       "      <th>Valor Final</th>\n",
       "    </tr>\n",
       "  </thead>\n",
       "  <tbody>\n",
       "    <tr>\n",
       "      <th>0</th>\n",
       "      <td>65014</td>\n",
       "      <td>2019-12-01</td>\n",
       "      <td>Shopping Morumbi</td>\n",
       "      <td>Sunga Listrado</td>\n",
       "      <td>5</td>\n",
       "      <td>114</td>\n",
       "      <td>570</td>\n",
       "    </tr>\n",
       "    <tr>\n",
       "      <th>1</th>\n",
       "      <td>65014</td>\n",
       "      <td>2019-12-01</td>\n",
       "      <td>Shopping Morumbi</td>\n",
       "      <td>Casaco Listrado</td>\n",
       "      <td>1</td>\n",
       "      <td>269</td>\n",
       "      <td>269</td>\n",
       "    </tr>\n",
       "    <tr>\n",
       "      <th>2</th>\n",
       "      <td>65016</td>\n",
       "      <td>2019-12-01</td>\n",
       "      <td>Iguatemi Campinas</td>\n",
       "      <td>Sapato Listrado</td>\n",
       "      <td>2</td>\n",
       "      <td>363</td>\n",
       "      <td>726</td>\n",
       "    </tr>\n",
       "    <tr>\n",
       "      <th>3</th>\n",
       "      <td>65016</td>\n",
       "      <td>2019-12-01</td>\n",
       "      <td>Iguatemi Campinas</td>\n",
       "      <td>Casaco</td>\n",
       "      <td>1</td>\n",
       "      <td>250</td>\n",
       "      <td>250</td>\n",
       "    </tr>\n",
       "    <tr>\n",
       "      <th>4</th>\n",
       "      <td>65017</td>\n",
       "      <td>2019-12-01</td>\n",
       "      <td>Shopping SP Market</td>\n",
       "      <td>Gorro Liso</td>\n",
       "      <td>3</td>\n",
       "      <td>92</td>\n",
       "      <td>276</td>\n",
       "    </tr>\n",
       "    <tr>\n",
       "      <th>...</th>\n",
       "      <td>...</td>\n",
       "      <td>...</td>\n",
       "      <td>...</td>\n",
       "      <td>...</td>\n",
       "      <td>...</td>\n",
       "      <td>...</td>\n",
       "      <td>...</td>\n",
       "    </tr>\n",
       "    <tr>\n",
       "      <th>7084</th>\n",
       "      <td>69996</td>\n",
       "      <td>2019-12-26</td>\n",
       "      <td>Center Shopping Uberlândia</td>\n",
       "      <td>Short Listrado</td>\n",
       "      <td>2</td>\n",
       "      <td>102</td>\n",
       "      <td>204</td>\n",
       "    </tr>\n",
       "    <tr>\n",
       "      <th>7085</th>\n",
       "      <td>69996</td>\n",
       "      <td>2019-12-26</td>\n",
       "      <td>Center Shopping Uberlândia</td>\n",
       "      <td>Mochila</td>\n",
       "      <td>4</td>\n",
       "      <td>270</td>\n",
       "      <td>1080</td>\n",
       "    </tr>\n",
       "    <tr>\n",
       "      <th>7086</th>\n",
       "      <td>69996</td>\n",
       "      <td>2019-12-26</td>\n",
       "      <td>Center Shopping Uberlândia</td>\n",
       "      <td>Pulseira Estampa</td>\n",
       "      <td>1</td>\n",
       "      <td>87</td>\n",
       "      <td>87</td>\n",
       "    </tr>\n",
       "    <tr>\n",
       "      <th>7087</th>\n",
       "      <td>69997</td>\n",
       "      <td>2019-12-26</td>\n",
       "      <td>Ribeirão Shopping</td>\n",
       "      <td>Camisa Listrado</td>\n",
       "      <td>1</td>\n",
       "      <td>108</td>\n",
       "      <td>108</td>\n",
       "    </tr>\n",
       "    <tr>\n",
       "      <th>7088</th>\n",
       "      <td>69997</td>\n",
       "      <td>2019-12-26</td>\n",
       "      <td>Ribeirão Shopping</td>\n",
       "      <td>Short Linho</td>\n",
       "      <td>2</td>\n",
       "      <td>133</td>\n",
       "      <td>266</td>\n",
       "    </tr>\n",
       "  </tbody>\n",
       "</table>\n",
       "<p>7089 rows × 7 columns</p>\n",
       "</div>"
      ],
      "text/plain": [
       "      Código Venda       Data                     ID Loja           Produto  \\\n",
       "0            65014 2019-12-01            Shopping Morumbi    Sunga Listrado   \n",
       "1            65014 2019-12-01            Shopping Morumbi   Casaco Listrado   \n",
       "2            65016 2019-12-01           Iguatemi Campinas   Sapato Listrado   \n",
       "3            65016 2019-12-01           Iguatemi Campinas            Casaco   \n",
       "4            65017 2019-12-01          Shopping SP Market        Gorro Liso   \n",
       "...            ...        ...                         ...               ...   \n",
       "7084         69996 2019-12-26  Center Shopping Uberlândia    Short Listrado   \n",
       "7085         69996 2019-12-26  Center Shopping Uberlândia           Mochila   \n",
       "7086         69996 2019-12-26  Center Shopping Uberlândia  Pulseira Estampa   \n",
       "7087         69997 2019-12-26           Ribeirão Shopping   Camisa Listrado   \n",
       "7088         69997 2019-12-26           Ribeirão Shopping       Short Linho   \n",
       "\n",
       "      Quantidade  Valor Unitário  Valor Final  \n",
       "0              5             114          570  \n",
       "1              1             269          269  \n",
       "2              2             363          726  \n",
       "3              1             250          250  \n",
       "4              3              92          276  \n",
       "...          ...             ...          ...  \n",
       "7084           2             102          204  \n",
       "7085           4             270         1080  \n",
       "7086           1              87           87  \n",
       "7087           1             108          108  \n",
       "7088           2             133          266  \n",
       "\n",
       "[7089 rows x 7 columns]"
      ]
     },
     "metadata": {},
     "output_type": "display_data"
    },
    {
     "name": "stdout",
     "output_type": "stream",
     "text": [
      "15227\n",
      "2917311\n"
     ]
    }
   ],
   "source": [
    "# Agora vamos utilizar o pandas para manusear os dados na tabela que foi armazenada em uma pasta no PC.\n",
    "tabela = pd.read_excel(r\"C:\\Users\\Caio\\Downloads\\Vendas - Dez.xlsx\")\n",
    "display(tabela)\n",
    "quantidade = tabela['Quantidade'].sum()\n",
    "faturamento = tabela['Valor Final'].sum()\n",
    "print(quantidade)\n",
    "print(faturamento)"
   ]
  },
  {
   "cell_type": "code",
   "execution_count": 86,
   "id": "1d5def97",
   "metadata": {},
   "outputs": [
    {
     "ename": "KeyboardInterrupt",
     "evalue": "",
     "output_type": "error",
     "traceback": [
      "\u001b[1;31m---------------------------------------------------------------------------\u001b[0m",
      "\u001b[1;31mKeyboardInterrupt\u001b[0m                         Traceback (most recent call last)",
      "Input \u001b[1;32mIn [86]\u001b[0m, in \u001b[0;36m<cell line: 7>\u001b[1;34m()\u001b[0m\n\u001b[0;32m      5\u001b[0m pyautogui\u001b[38;5;241m.\u001b[39mhotkey(\u001b[38;5;124m'\u001b[39m\u001b[38;5;124mctrl\u001b[39m\u001b[38;5;124m'\u001b[39m, \u001b[38;5;124m'\u001b[39m\u001b[38;5;124mv\u001b[39m\u001b[38;5;124m'\u001b[39m)\n\u001b[0;32m      6\u001b[0m pyautogui\u001b[38;5;241m.\u001b[39mpress(\u001b[38;5;124m'\u001b[39m\u001b[38;5;124menter\u001b[39m\u001b[38;5;124m'\u001b[39m)\n\u001b[1;32m----> 7\u001b[0m \u001b[43mtime\u001b[49m\u001b[38;5;241;43m.\u001b[39;49m\u001b[43msleep\u001b[49m\u001b[43m(\u001b[49m\u001b[38;5;241;43m3\u001b[39;49m\u001b[43m)\u001b[49m\n\u001b[0;32m      8\u001b[0m pyautogui\u001b[38;5;241m.\u001b[39mclick(x\u001b[38;5;241m=\u001b[39m\u001b[38;5;241m75\u001b[39m, y\u001b[38;5;241m=\u001b[39m\u001b[38;5;241m205\u001b[39m)\n",
      "\u001b[1;31mKeyboardInterrupt\u001b[0m: "
     ]
    }
   ],
   "source": [
    "# Nesse momento queremos acessar a página de email, vamos utilizar novamente o pyautogui\n",
    "pyautogui.hotkey('ctrl', 't')\n",
    "email = 'https://mail.google.com/mail/u/0/#inbox'\n",
    "pyperclip.copy(email)\n",
    "pyautogui.hotkey('ctrl', 'v')\n",
    "pyautogui.press('enter')\n",
    "time.sleep(3)\n",
    "pyautogui.click(x=75, y=205)"
   ]
  },
  {
   "cell_type": "code",
   "execution_count": null,
   "id": "aaf1128e",
   "metadata": {},
   "outputs": [],
   "source": [
    "# Agora vamos inserir os dados para envio do email, com a confecção do corpo do email.\n",
    "pyautogui.write('caioarruda@hotmail.com')\n",
    "pyautogui.press('tab')\n",
    "pyautogui.press('tab')\n",
    "pyperclip.copy('Relatório de vendas.')\n",
    "pyautogui.hotkey('ctrl', 'v')\n",
    "pyautogui.press('tab')"
   ]
  },
  {
   "cell_type": "code",
   "execution_count": null,
   "id": "52686bef",
   "metadata": {},
   "outputs": [],
   "source": [
    "# Redigindo o corpo do texto. Para inserir variáveis já existentes no script inserimos a letra f antes do texto. Lembrando q as aspas triplas servem para que possamos redigir textos grandes e formatados.\n",
    "texto = f'''Bom dia a todos.\n",
    "Venho por meio desta informar alguns parâmetros para a análise mensal de nossa empresa.\n",
    "Neste mês foram vendidos: {quantidade}.\n",
    "O nosso faturamento no respectivo mês foi de: R$ {faturamento}.\n",
    "\n",
    "Abraços.\n",
    "\n",
    "Caio Arruda'''\n",
    "pyperclip.copy(texto)\n",
    "pyautogui.hotkey('ctrl', 'v')"
   ]
  },
  {
   "cell_type": "code",
   "execution_count": null,
   "id": "06b15ba3",
   "metadata": {},
   "outputs": [],
   "source": [
    "# Vamos automatizar para que a máquina consiga clicar no botão de enviar\n",
    "pyautogui.hotkey('ctrl', 'enter')"
   ]
  },
  {
   "cell_type": "code",
   "execution_count": null,
   "id": "c9ac11b1",
   "metadata": {},
   "outputs": [],
   "source": []
  }
 ],
 "metadata": {
  "kernelspec": {
   "display_name": "Python 3 (ipykernel)",
   "language": "python",
   "name": "python3"
  },
  "language_info": {
   "codemirror_mode": {
    "name": "ipython",
    "version": 3
   },
   "file_extension": ".py",
   "mimetype": "text/x-python",
   "name": "python",
   "nbconvert_exporter": "python",
   "pygments_lexer": "ipython3",
   "version": "3.9.12"
  }
 },
 "nbformat": 4,
 "nbformat_minor": 5
}
